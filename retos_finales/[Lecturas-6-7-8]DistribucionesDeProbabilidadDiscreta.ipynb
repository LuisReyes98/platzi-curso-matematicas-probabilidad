{
 "cells": [
  {
   "cell_type": "markdown",
   "metadata": {},
   "source": [
    "# Distribuciones discretas (e.j. binomial)\n",
    "\n",
    "---\n",
    "\n",
    "\n",
    "\n",
    "Recordando que la distribución binomial está dada por: \n",
    "\n",
    "$$\n",
    "P(k, n; p) = {n \\choose k} p^k (1-p)^{n-k} = \\frac{n!}{k!(n-k)!}p^k (1-p)^{n-k}\n",
    "$$\n",
    "\n",
    "donde $P(k, n; p)$ representa la probabilidad de obtener $k$ éxitos de $n$ intentos con posibilidad **binaria** (por ejemplo, lanzamientos de moneda). \n",
    "\n",
    "`Ejemplo`: la probabilidad de obtener 4 caras a partir de 10 lanzamientos consecutivos de moneda, está dada por (tomando $p=0.5$, por lo tanto $1-p=0.5$): \n",
    "\n",
    "$$\n",
    "P(k=4, n=10; p=0.5) = {10 \\choose 4} \\left( \\frac{1}{2}\\right)^{4} \\left( \\frac{1}{2}\\right)^{6} = \\frac{10!}{4!6!} \\left( \\frac{1}{2}\\right)^{10}\n",
    "$$\n",
    "\n",
    "$$\n",
    "P(k=4, n=10; p=0.5) = {10 \\choose 4} \\left( \\frac{1}{2}\\right)^{10} = \\frac{10!}{4!6!} \\left( \\frac{1}{2}\\right)^{10}\n",
    "$$\n",
    "\n",
    "---\n",
    "\n",
    "Ahora, la probabilidad de obtener $k$ o menos éxitos a partir de $n$ intentos está dada por la distribución acumulada: \n",
    "\n",
    "$$\n",
    "C(k, n; p) = \\sum_{i=0}^k P(i, n;p) = \\sum_{i=0}^k {n \\choose i} p^i (1-p)^{n-i}\n",
    "$$ \n",
    "\n",
    "Por convención entendemos que:\n",
    "\n",
    "$$C(k=3,n=6;p=0.5) = P(k \\leq 3, n=6, p=0.5 )$$\n",
    "\n",
    "\n",
    "`Ejemplo`: la probabilidad de obtener 3 o menos caras a partir de 6 lanzamientos consecutivos está dada por (tomando $p=0.5$, por lo tanto $1-p=0.5$): \n",
    "\n",
    "$$P(k \\leq 3, n=6;p=0.5) = \\sum_{i=0}^3 {6 \\choose i} \\left(\\frac{1}{2} \\right)^6 $$\n",
    "\n",
    "$$P(k \\leq 3, n=6;p=0.5) = \\left(\\frac{1}{2} \\right)^6 \\sum_{i=0}^3 {6 \\choose i} $$\n",
    "\n",
    "$$P(k \\leq 3, n=6;p=0.5) = \\left(\\frac{1}{2} \\right)^6 \\left\\{ {6 \\choose 0} + {6 \\choose 1} + {6 \\choose 2} + {6 \\choose 3} \\right\\}$$\n"
   ]
  },
  {
   "cell_type": "markdown",
   "metadata": {},
   "source": [
    "## Formulas de combinaciones\n",
    "\n",
    "$$\n",
    "{n \\choose r} =\t\\text{number of combinations}\n",
    "$$\n",
    "\n",
    "$$\n",
    "_n C_r=\\frac{n !}{r ! (n-r) !}\n",
    "$$\n",
    "\n",
    "$_n C_r$\t=\tnumber of combinations\n",
    "\n",
    "$n$\t=\ttotal number of objects in the set\n",
    "\n",
    "$r$\t=\tnumber of choosing objects from the set\n"
   ]
  },
  {
   "cell_type": "markdown",
   "metadata": {},
   "source": [
    "# Ejercicios (bloque 1)\n",
    "\n",
    "Calcula a mano las siguientes probabilidades (tomando $p=0.5$, por lo tanto $1-p=0.5$):\n",
    "\n",
    "1. Probabilidad de obtener 3 caras a partir de 12 lanzamientos de moneda.\n",
    "\n",
    "2. Probabilidad de obtener 5 o menos caras a partir de 10 lanzamientos de moneda.\n",
    "\n",
    "3. Probabilidad de obtener menos de 6 caras a partir de 10 lanzamientos de moneda.\n",
    "\n",
    "Calcula a mano las mismas probabilidades anteriores pero considerando ahora $p=0.3$.\n"
   ]
  },
  {
   "cell_type": "markdown",
   "metadata": {},
   "source": [
    "1. Probabilidad de obtener 3 caras a partir de 12 lanzamientos de moneda.\n",
    "\n",
    "$P(k, n; p) = P(3, 12, 0.5)$"
   ]
  },
  {
   "cell_type": "code",
   "execution_count": 1,
   "metadata": {},
   "outputs": [],
   "source": [
    "import math\n",
    "\n",
    "def combinations(n, r):\n",
    "  return (math.factorial(n) / (math.factorial(r) * math.factorial(n - r)))"
   ]
  },
  {
   "cell_type": "code",
   "execution_count": 2,
   "metadata": {},
   "outputs": [
    {
     "data": {
      "text/plain": [
       "210.0"
      ]
     },
     "execution_count": 2,
     "metadata": {},
     "output_type": "execute_result"
    }
   ],
   "source": [
    "combinations(10,4)"
   ]
  },
  {
   "cell_type": "code",
   "execution_count": 3,
   "metadata": {},
   "outputs": [],
   "source": [
    "def binomial_distribution(k,n,p):\n",
    "  return combinations(n, k)*pow(p,k)*pow(1-p, n-k)\n"
   ]
  },
  {
   "cell_type": "code",
   "execution_count": 4,
   "metadata": {},
   "outputs": [
    {
     "data": {
      "text/plain": [
       "0.0537109375"
      ]
     },
     "execution_count": 4,
     "metadata": {},
     "output_type": "execute_result"
    }
   ],
   "source": [
    "# 1. Probabilidad de obtener 3 caras a partir de 12 lanzamientos de moneda.\n",
    "# probabilidad de obtener 3 caras\n",
    "\n",
    "binomial_distribution(3, 12, 0.5)"
   ]
  },
  {
   "cell_type": "code",
   "execution_count": 7,
   "metadata": {},
   "outputs": [
    {
     "name": "stdout",
     "output_type": "stream",
     "text": [
      "0.623046875\n"
     ]
    }
   ],
   "source": [
    "# 2. Probabilidad de obtener 5 o menos caras a partir de 10 lanzamientos de moneda.\n",
    "# probabilidad de obtener de 0 a 5 caras\n",
    "total = 0\n",
    "for i in range(6):\n",
    "  # print(i)\n",
    "  total += binomial_distribution(i, 10, 0.5)\n",
    "\n",
    "print(total)\n"
   ]
  },
  {
   "cell_type": "code",
   "execution_count": 11,
   "metadata": {},
   "outputs": [
    {
     "name": "stdout",
     "output_type": "stream",
     "text": [
      "0.376953125\n"
     ]
    }
   ],
   "source": [
    "# 3. Probabilidad de obtener menos de 6 caras a partir de 10 lanzamientos de moneda.\n",
    "# Probabilidad de obtener un minimo de 6 y un maximo de 10 caras\n",
    "total = 0\n",
    "for i in range(5):\n",
    "  # print(i+6)\n",
    "  total += binomial_distribution(i, 10, 0.5)\n",
    "print(total)\n"
   ]
  },
  {
   "cell_type": "code",
   "execution_count": 12,
   "metadata": {},
   "outputs": [
    {
     "data": {
      "text/plain": [
       "1.0"
      ]
     },
     "execution_count": 12,
     "metadata": {},
     "output_type": "execute_result"
    }
   ],
   "source": [
    "0.623046875 + 0.376953125\n"
   ]
  },
  {
   "cell_type": "markdown",
   "metadata": {},
   "source": [
    "# Bonus en Python"
   ]
  },
  {
   "cell_type": "code",
   "execution_count": 1,
   "metadata": {},
   "outputs": [],
   "source": [
    "# definición de la distribución binomial \n",
    "# def my_binomial(k, n, p):\n",
    "#   return factorial(n)/(factorial(k)*(factorial(n-k)))*pow(p,k)*pow(1-p, n-k)"
   ]
  },
  {
   "cell_type": "markdown",
   "metadata": {},
   "source": [
    "Usando la función `my_binomial()`, definida previamente, verifica el cálculo de todas las probabilidades del punto anterior.\n",
    "\n",
    "Ejemplo:\n",
    "\n",
    "$$P(k \\leq 3, n=6, p=0.5)$$\n",
    "\n",
    "Se traduce en :\n",
    "\n",
    "```python\n",
    "total = 0\n",
    "for n in range(4):\n",
    "  total += my_binomial(i,6,0.5)\n",
    "\n",
    "print(total) \n",
    "```\n"
   ]
  },
  {
   "cell_type": "code",
   "execution_count": 2,
   "metadata": {},
   "outputs": [],
   "source": [
    "# escribe tu codigo aquí:\n"
   ]
  }
 ],
 "metadata": {
  "interpreter": {
   "hash": "f5bceb1afc4869e4b9fabd2ca8b7231ce721ab457c48373fb761565f06fcb0ed"
  },
  "kernelspec": {
   "display_name": "Python 3.9.5 64-bit ('datascience_ml': conda)",
   "name": "python3"
  },
  "language_info": {
   "name": "python",
   "version": ""
  },
  "orig_nbformat": 4
 },
 "nbformat": 4,
 "nbformat_minor": 2
}