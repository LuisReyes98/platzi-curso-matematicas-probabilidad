{
 "cells": [
  {
   "cell_type": "markdown",
   "metadata": {},
   "source": [
    "# Tipos de probabilidad (revisión de conceptos)\n",
    "\n",
    "Según lo visto en clase, tenemos tres tipos de probabilidad a definir. Sean A y B dos eventos aleatorios diferentes, entonces:\n",
    "\n",
    "---\n",
    "\n",
    "`Probabilidad conjunta`: sean $A$ y $B$ dos eventos aleatorios diferentes, definimos la probabilidad conjunta de que ambos eventos ocurran por medio de la regla del producto: \n",
    "\n",
    "$$P(A, B) = P(A|B)P(B)$$\n",
    "\n",
    "donde $P(A|B)$ se define como la `probabilidad condicional` de que ocurra A dado B, y $P(B)$ es la probabilidad de que ocurra B (sin conocimiento extra de otras variables).\n",
    "\n",
    "---\n",
    "\n",
    "`Probabilidad marginal`: la probabilidad marginal de A sobre una distribución conjunta de probabilidades en A y B, se define como la suma de todas las probabilidades conjuntas $P(A, B)$ considerando todos los posibles valores de B: \n",
    "\n",
    "$$P(A) = \\sum_{B=b} P(A,B) = \\sum_{B=b} P(A|B) P(B)$$\n",
    "\n"
   ]
  },
  {
   "cell_type": "markdown",
   "metadata": {},
   "source": [
    "# Ejercicios (bloque 1)\n",
    "\n",
    "Considerando un lanzamiento de un dado y considerando los siguientes eventos aleatorios: \n",
    "\n",
    "A = {el resultado del lanzamiento de un dado es 6}\n",
    "\n",
    "B = {el resultado del lanzamiento de un dado es par}\n",
    "\n",
    "C = {el resultado del lanzamiento de un dado es impar}\n",
    "\n",
    "calcula las siguientes probabilidades:\n",
    "\n",
    "1. $P(A|B) = ?$\n",
    "2. $P(A|C) = ?$\n",
    "3. $P(B|C) = ?$\n"
   ]
  },
  {
   "cell_type": "markdown",
   "metadata": {},
   "source": [
    "$A = 1/6 = 0.166$\n",
    "\n",
    "$B = 3/6 = 0.5$\n",
    "\n",
    "$C = 3/6 = 0.5$\n"
   ]
  },
  {
   "cell_type": "markdown",
   "metadata": {},
   "source": [
    "\n",
    "Dado B el espacio muestral de numeros pares en un dado es 3, de los cuales solo un dado es 6\n",
    "\n",
    "$P(A \\mid B) = 1/3 = 0.333$\n",
    "\n",
    "Dado C el espacio muestral de numeros impares es 3, de los cuales ninguno es 6\n",
    "\n",
    "$P(A \\mid C) = 0$\n",
    "\n",
    "El espacio muestral de B y C son mutuamente exclusivos por lo cual no tienen ningun tipo de correlacion\n",
    "\n",
    "$P(B \\mid C) = 0$\n"
   ]
  },
  {
   "cell_type": "code",
   "execution_count": 2,
   "metadata": {},
   "outputs": [
    {
     "data": {
      "text/plain": [
       "0.3333333333333333"
      ]
     },
     "execution_count": 2,
     "metadata": {},
     "output_type": "execute_result"
    }
   ],
   "source": [
    "1/3"
   ]
  },
  {
   "cell_type": "markdown",
   "metadata": {},
   "source": [
    "# Ejercicios (bloque 2)\n",
    "\n",
    "Considerando una ruleta de doce números\n",
    "\n",
    "{$1,2,3,4,5,6,7,8,9,10,11,12$}\n",
    "\n",
    "dos jugadores eligen 6 números, cada uno de ellos. Supón que el jugador 1 elige A = {$1,2,3,4,5,6$} y calcula las siguientes probabilidades: \n",
    "\n",
    "1. $P(A|B)$ sabiendo que el jugador 2 elige B = {$2,4,6,8,10,12$}\n",
    "2. $P(A|B)$ sabiendo que el jugador 2 elige B = {$1,3,5,7,9,11$}\n",
    "3. $P(A|B)$ sabiendo que el jugador 2 elige B = {$5,6,7,8,9,10$}\n"
   ]
  },
  {
   "cell_type": "markdown",
   "metadata": {},
   "source": [
    "### Respuestas\n",
    "\n",
    "1. $P(A|B) = $\n",
    "\n",
    "P(A) = 6/12\n",
    "A = {$1,2,3,4,5,6$}\n",
    "\n",
    "P(B) = 6/12\n",
    "B = {$2,4,6,8,10,12$}\n",
    "\n",
    "A ∩ B = {$2,4,6$}\n",
    "\n",
    "Espacio muestral es {$1,2,3,4,5,6,7,8,9,10,11,12$}\n",
    "\n",
    "$P(A|B) = 3/6 = 0.5$\n",
    "\n",
    "1. $P(A|B) = ?$\n",
    "\n",
    "B = {$1,3,5,7,9,11$}\n",
    "\n",
    "A ∩ B = {$1,3,5$}\n",
    "\n",
    "$P(A|B) = 3/6 = 0.5$\n",
    "\n",
    "2. $P(A|B) = ?$\n",
    "\n",
    "B = {$5,6,7,8,9,10$}\n",
    "\n",
    "A ∩ B = {$5,6$}\n",
    "\n",
    "$P(A|B) = 2/6 = 0.333$\n"
   ]
  },
  {
   "cell_type": "code",
   "execution_count": 1,
   "metadata": {},
   "outputs": [
    {
     "data": {
      "text/plain": [
       "0.3333333333333333"
      ]
     },
     "execution_count": 1,
     "metadata": {},
     "output_type": "execute_result"
    }
   ],
   "source": [
    "2/6"
   ]
  },
  {
   "cell_type": "markdown",
   "metadata": {},
   "source": [
    "# Ejercicios (bloque 3)\n",
    "\n",
    "Considera un problema donde se lanzan dos monedas, sean $m_1$ y $m_2$. Verifica la regla del producto para las siguientes probabilidades (dibuja el espacio muestral y calcula cada probabilidad por separado): \n",
    "1. $P(m_1 = \\text{cara}, m_2 = \\text{sello})$\n",
    "2. $P(m_1 = \\text{cara} | m_2 = \\text{sello})$\n",
    "3. $P(m_2 = \\text{sello})$"
   ]
  },
  {
   "cell_type": "markdown",
   "metadata": {},
   "source": [
    "### Respuestas\n",
    "\n",
    "Espacio muestral {m_1,m_2} { cara, cara}, { cara, sello}, { sello, cara} , { sello, sello}\n",
    "1. $P(m_1 = \\text{cara}, m_2 = \\text{sello})$\n",
    "\n",
    "$P(m_1 = \\text{cara}, m_2 = \\text{sello}) = P(m_1 = \\text{cara} \\mid m_2 = \\text{sello}) \\cdot P(m_2 = \\text{sello})$\n",
    "\n",
    "$P(m_2) = 1/2 = 0.5$\n",
    "\n",
    "$P(m_1 = \\text{cara} \\mid m_2 = \\text{sello}) = 1/4 = 0.25$\n",
    "\n",
    "$P(m_1 = \\text{cara}, m_2 = \\text{sello}) 0.5 * 0.25 = 0.125$\n",
    "\n",
    "\n",
    "2. $P(m_1 = \\text{cara} | m_2 = \\text{sello})$\n",
    "\n",
    "$P(m_1 = \\text{cara} | m_2 = \\text{sello}) = 1/4 = 0.25$\n",
    "\n",
    "3. $P(m_2 = \\text{sello})$\n",
    "\n",
    "$P(m_2 = \\text{sello}) = 2/4 = 1/2 = 0.5$"
   ]
  },
  {
   "cell_type": "code",
   "execution_count": 1,
   "metadata": {},
   "outputs": [
    {
     "data": {
      "text/plain": [
       "0.125"
      ]
     },
     "execution_count": 1,
     "metadata": {},
     "output_type": "execute_result"
    }
   ],
   "source": [
    "0.5 * 0.25"
   ]
  }
 ],
 "metadata": {
  "interpreter": {
   "hash": "f5bceb1afc4869e4b9fabd2ca8b7231ce721ab457c48373fb761565f06fcb0ed"
  },
  "kernelspec": {
   "display_name": "Python 3.9.5 64-bit ('datascience_ml': conda)",
   "name": "python3"
  },
  "language_info": {
   "name": "python",
   "version": ""
  },
  "orig_nbformat": 4
 },
 "nbformat": 4,
 "nbformat_minor": 2
}