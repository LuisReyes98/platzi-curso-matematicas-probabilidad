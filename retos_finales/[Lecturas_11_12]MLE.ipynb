{
  "cells": [
    {
      "cell_type": "markdown",
      "metadata": {
        "id": "3qCazsDcxxF3"
      },
      "source": [
        "# Estimación de máxima verosimilitud\n",
        "\n",
        "Como ya vimos, esta técnica, cuyas siglas en inglés son MLE (maximum likelihood estimation), nos permite encontrar la distribución de probabilidad que mejor estima un cierto conjunto de datos. Para ello consideramos dos pasos:\n",
        "\n",
        "1. Escogemos una distribución $P(X; \\theta)$, con un conjunto de parámetros $\\theta$, dado un conjunto de datos $X$.\n",
        "\n",
        "2. Seleccionamos los valores de los parámetros $\\theta = \\hat{\\theta}$ que mejor ajustan los datos siguiendo la premisa que serán aquellos tales que: \n",
        "\n",
        "$$\n",
        "P(X, \\theta) = L(X, \\hat{\\theta}) = \\max_{\\theta} \\left\\{ L(X, \\theta) \\right\\}\n",
        "$$\n",
        "\n",
        "Así pues, consideremos un conjunto de datos ${x_i}$ como el siguiente, el cual trabajamos en una clase pasada:"
      ]
    },
    {
      "cell_type": "code",
      "execution_count": 5,
      "metadata": {
        "colab": {
          "base_uri": "https://localhost:8080/",
          "height": 296
        },
        "id": "yAheEbP5Cx8u",
        "outputId": "ee762114-4ba2-425f-cb17-037e9a196483"
      },
      "outputs": [
        {
          "name": "stdout",
          "output_type": "stream",
          "text": [
            "[36 37 38 39 40 41 42 43 44 45 46 47 48 49 50 51 52 53 54 55]\n"
          ]
        },
        {
          "data": {
            "text/plain": [
              "<BarContainer object of 20 artists>"
            ]
          },
          "execution_count": 5,
          "metadata": {},
          "output_type": "execute_result"
        },
        {
          "data": {
            "image/png": "[encoded data removed]",
            "text/plain": [
              "<Figure size 432x288 with 1 Axes>"
            ]
          },
          "metadata": {
            "needs_background": "light"
          },
          "output_type": "display_data"
        }
      ],
      "source": [
        "import pandas as pd\n",
        "import numpy as np\n",
        "import matplotlib.pyplot as plt\n",
        "\n",
        "# recuerda que este archivo lo puedes bajar de: https://seattlecentral.edu/qelp/sets/057/057.html\n",
        "df = pd.read_excel('../house_fly.xls')\n",
        "arr = df['Normally Distributed Housefly Wing Lengths'].values[3:]\n",
        "values, dist = np.unique(arr, return_counts=True)\n",
        "print(values)\n",
        "plt.bar(values, dist)\n"
      ]
    },
    {
      "cell_type": "code",
      "execution_count": 6,
      "metadata": {},
      "outputs": [
        {
          "data": {
            "text/plain": [
              "array([36, 37, 38, 38, 39, 39, 40, 40, 40, 40, 41, 41, 41, 41, 41, 41, 42,\n",
              "       42, 42, 42, 42, 42, 42, 43, 43, 43, 43, 43, 43, 43, 43, 44, 44, 44,\n",
              "       44, 44, 44, 44, 44, 44, 45, 45, 45, 45, 45, 45, 45, 45, 45, 45, 46,\n",
              "       46, 46, 46, 46, 46, 46, 46, 46, 46, 47, 47, 47, 47, 47, 47, 47, 47,\n",
              "       47, 48, 48, 48, 48, 48, 48, 48, 48, 49, 49, 49, 49, 49, 49, 49, 50,\n",
              "       50, 50, 50, 50, 50, 51, 51, 51, 51, 52, 52, 53, 53, 54, 55],\n",
              "      dtype=object)"
            ]
          },
          "execution_count": 6,
          "metadata": {},
          "output_type": "execute_result"
        }
      ],
      "source": [
        "arr\n"
      ]
    },
    {
      "cell_type": "markdown",
      "metadata": {
        "id": "h0niZOt-zoxO"
      },
      "source": [
        "Si buscamos la distribución que mejor ajuste los datos, lo más razonable es pensar en una gaussiana o normal, y como ya se mostró en una notebook anterior, la distribucion gaussiana ajusta muy bien estos datos. En esta notebook veremos otra cara de la moneda sobre este mismo ejercicio. \n",
        "\n",
        "--- \n",
        "# RETO\n",
        "Usando MLE vas a demostrar que si asumimos que los datos vienen descritos por una función gaussiana:\n",
        "\n",
        "$$\n",
        "P(X;\\theta)=P(X;\\mu, \\sigma) = \\frac{1}{\\sigma \\sqrt{2 \\pi}} \\exp{\\left[-\\frac{1}{2}\\left(\\frac{X-\\mu}{\\sigma} \\right)^2 \\right]}\n",
        "$$\n",
        "\n",
        "Entonces los parámetros que mejor ajustan los datos ${x_i}$ de la celda anterior están dados por: \n",
        "\n",
        "$$\n",
        "\\mu = \\frac{1}{n} \\sum_i^n x_i\n",
        "$$\n",
        "\n",
        "$$\n",
        "\\sigma^2 = \\frac{1}{n}\\sum_i^n (x_i-\\mu)^2\n",
        "$$\n",
        "\n",
        "donde *n* es la cantidad de datos. \n",
        "\n",
        "--- \n",
        "\n",
        "# Paso a paso (a mano)\n",
        "\n",
        "## 1) Escribe la verosimilitud (likelihood)\n",
        "Considera que en este caso asumimos que cada punto sigue una distribución normal \n",
        "\n",
        "$$\n",
        "L(X;\\theta) = \\prod_i^n P(x_i;\\theta)\n",
        "$$\n",
        "\n",
        "y por lo tanto la verosimilitud está dada por: \n",
        "\n",
        "$$\n",
        "L(X;\\mu, \\sigma) = L(\\mu, \\sigma) = \\prod_i^n \\frac{1}{\\sqrt{2 \\pi \\sigma^2}} \\exp{\\left\\{ \\frac{-1}{2\\sigma^2}(x_i - \\mu)^2 \\right\\}} \n",
        "$$\n",
        "\n",
        "## 2) Calcula las ecuaciones del valor máximo\n",
        "\n",
        "Usando MLE se deben calcular los parámetros que conduzcan al máximo de probabilidad: \n",
        "\n",
        "$$\n",
        "\\max L(\\mu, \\sigma) \\rightarrow \\max \\log L(\\mu, \\sigma)\n",
        "$$\n",
        "\n",
        "donde consideramos el logaritmo de la verosimilitud. Demuestra que esto equivale a: \n",
        "\n",
        "$$\n",
        "\\max L(\\mu, \\sigma) = \\min \\left( n \\log \\sigma + \\frac{1}{2 \\sigma^2} \\sum_i (x_i - \\mu)^2 \\right)\n",
        "$$\n",
        "\n",
        "Esto equivale a encontrar el minimo de la función: \n",
        "\n",
        "\n",
        "$$f(\\mu, \\sigma) = n \\log \\sigma + \\frac{1}{2 \\sigma^2} \\sum_i (x_i - \\mu)^2$$\n",
        "\n",
        "lo cual se hace derivando parcialmente la función respecto a ambas variables e igualando a cero.\n",
        "\n",
        "$$\n",
        "\\frac{\\partial L}{\\partial \\mu} = 0\n",
        "$$\n",
        "\n",
        "$$\n",
        "\\frac{\\partial L}{\\partial \\sigma} = 0\n",
        "$$\n",
        "\n",
        "## 3) Resuelve el sistema de ecuaciones resultante\n",
        "\n",
        "Al final habrás obtenido un par de ecuaciones cuyas incógnitas son los parámetros: \n",
        "\n",
        "$$\n",
        "\\frac{-2}{\\sigma^2}\\sum_i (x_i - \\mu) = 0\n",
        "$$\n",
        "$$\n",
        "\\frac{n}{\\sigma} - \\frac{1}{\\sigma^3}\\sum_i (x_i - \\mu)^2 = 0\n",
        "$$\n",
        "\n",
        "Resuélvelas y habrás llegado a las fórmulas indicadas previamente para los parámetros óptimos. \n",
        "\n",
        "**¿No son estas justamente las definiciones típicas de la media y la desviación estándar para un conjunto de datos?**\n",
        "\n",
        "¡Sí, así es! Esto indica que justamente los parámetros son óptimos cuando la desviación estándar y media de los datos coinciden con aquellas de la distribucion gaussiana. "
      ]
    },
    {
      "cell_type": "markdown",
      "metadata": {
        "id": "Tajl978J57KO"
      },
      "source": [
        "---\n",
        "\n",
        "# Comprobación numérica\n",
        "\n",
        "Vamos ahora a hacer una comprobación numérica de que esos parámetros efectivamente ajustan de manera óptima los datos. Construye funciones en Python que te permitan calcular directamente los parámetros óptimos según las ecuaciones encontradas: \n",
        "\n",
        "\n",
        "$$\n",
        "\\mu = \\frac{1}{n} \\sum_i^n x_i\n",
        "$$\n",
        "\n",
        "$$\n",
        "\\sigma^2 = \\frac{1}{n}\\sum_i^n (x_i-\\mu)^2\n",
        "$$"
      ]
    },
    {
      "cell_type": "code",
      "execution_count": 9,
      "metadata": {},
      "outputs": [],
      "source": [
        "## parámetros optimos a partir del cálculo con MLE\n",
        "## completa con tu código aquí:\n",
        "\n",
        "def optimal_mu(arr):\n",
        "  mu = 0\n",
        "  for i in arr:\n",
        "    mu += i\n",
        "  return mu/len(arr)\n",
        "\n",
        "\n",
        "def optimal_sigma(arr):\n",
        "  sigma = 0\n",
        "  mu = optimal_mu(arr)\n",
        "  for i in arr:\n",
        "    sigma += (i-mu)**2\n",
        "  return (sigma/len(arr))**0.5\n"
      ]
    },
    {
      "cell_type": "code",
      "execution_count": 10,
      "metadata": {},
      "outputs": [
        {
          "name": "stdout",
          "output_type": "stream",
          "text": [
            "45.5 45.5\n",
            "3.9 3.9\n"
          ]
        }
      ],
      "source": [
        "print(optimal_mu(arr), arr.mean())\n",
        "print(optimal_sigma(arr), arr.std())\n"
      ]
    },
    {
      "cell_type": "code",
      "execution_count": null,
      "metadata": {
        "id": "nUP14BDP5JJJ"
      },
      "outputs": [],
      "source": [
        "## parámetros optimos a partir del cálculo con MLE\n",
        "## completa con tu código aquí:\n",
        "\n",
        "def optimal_mu(arr=arr):\n",
        "  pass\n",
        "\n",
        "def optimal_sigma(arr=arr):\n",
        "  pass"
      ]
    },
    {
      "cell_type": "code",
      "execution_count": null,
      "metadata": {
        "id": "-2HMb-ioFptq"
      },
      "outputs": [],
      "source": [
        "print(optimal_mu(), arr.mean())\n",
        "print(optimal_sigma(), arr.std())"
      ]
    },
    {
      "cell_type": "markdown",
      "metadata": {
        "id": "JFUVXTA1E5du"
      },
      "source": [
        "De manera que luego puedas encontrar que ajustan muy bien los datos como sucedió en la notebook de la clase 9."
      ]
    },
    {
      "cell_type": "code",
      "execution_count": null,
      "metadata": {
        "colab": {
          "base_uri": "https://localhost:8080/",
          "height": 280
        },
        "id": "ljYOKoHlA-SJ",
        "outputId": "416d5ba0-828c-484c-e30f-13922bb8b0f8"
      },
      "outputs": [
        {
          "data": {
            "text/plain": [
              "[<matplotlib.lines.Line2D at 0x7f1a24af0668>]"
            ]
          },
          "execution_count": 4,
          "metadata": {
            "tags": []
          },
          "output_type": "execute_result"
        },
        {
          "data": {
            "image/png": "[encoded data removed]",
            "text/plain": [
              "<Figure size 432x288 with 1 Axes>"
            ]
          },
          "metadata": {
            "needs_background": "light",
            "tags": []
          },
          "output_type": "display_data"
        }
      ],
      "source": [
        "from scipy.stats import norm \n",
        "\n",
        "values, dist = np.unique(arr, return_counts=True)\n",
        "plt.bar(values, dist/len(arr)) \n",
        "\n",
        "dist = norm(optimal_mu(), optimal_sigma())\n",
        "x = np.arange(30, 60, 0.1)\n",
        "y = [dist.pdf(value) for value in x]\n",
        "plt.plot(x,y)"
      ]
    },
    {
      "cell_type": "markdown",
      "metadata": {
        "id": "lGvRzB1_FTbi"
      },
      "source": [
        "Como te habrás dado cuenta los valores óptimos de los parámetros coinciden perfectamente con las definiciones de media y desviación estándar, así como sus contrapartes en Numpy `arr.mean()`  y `arr.std()`."
      ]
    },
    {
      "cell_type": "code",
      "execution_count": 12,
      "metadata": {},
      "outputs": [
        {
          "data": {
            "text/plain": [
              "[<matplotlib.lines.Line2D at 0x7f194df9b940>]"
            ]
          },
          "execution_count": 12,
          "metadata": {},
          "output_type": "execute_result"
        },
        {
          "data": {
            "image/png": "[encoded data removed]",
            "text/plain": [
              "<Figure size 432x288 with 1 Axes>"
            ]
          },
          "metadata": {
            "needs_background": "light"
          },
          "output_type": "display_data"
        }
      ],
      "source": [
        "from scipy.stats import norm\n",
        "\n",
        "values, dist = np.unique(arr, return_counts=True)\n",
        "plt.bar(values, dist/len(arr))\n",
        "\n",
        "dist = norm(optimal_mu(arr), optimal_sigma(arr))\n",
        "x = np.arange(30, 60, 0.1)\n",
        "y = [dist.pdf(value) for value in x]\n",
        "plt.plot(x, y)\n"
      ]
    },
    {
      "cell_type": "code",
      "execution_count": 13,
      "metadata": {},
      "outputs": [
        {
          "data": {
            "text/plain": [
              "[<matplotlib.lines.Line2D at 0x7f194d9f4f10>]"
            ]
          },
          "execution_count": 13,
          "metadata": {},
          "output_type": "execute_result"
        },
        {
          "data": {
            "image/png": "[encoded data removed]",
            "text/plain": [
              "<Figure size 432x288 with 1 Axes>"
            ]
          },
          "metadata": {
            "needs_background": "light"
          },
          "output_type": "display_data"
        }
      ],
      "source": [
        "values, dist = np.unique(arr, return_counts=True)\n",
        "plt.bar(values, dist/len(arr))\n",
        "\n",
        "dist = norm(arr.mean(), arr.std())\n",
        "x = np.arange(30, 60, 0.1)\n",
        "y = [dist.pdf(value) for value in x]\n",
        "plt.plot(x, y)\n"
      ]
    }
  ],
  "metadata": {
    "colab": {
      "collapsed_sections": [],
      "name": "[Lecturas-11-12]MLE.ipynb",
      "provenance": []
    },
    "interpreter": {
      "hash": "f5bceb1afc4869e4b9fabd2ca8b7231ce721ab457c48373fb761565f06fcb0ed"
    },
    "kernelspec": {
      "display_name": "Python 3.9.5 64-bit ('datascience_ml': conda)",
      "name": "python3"
    },
    "language_info": {
      "codemirror_mode": {
        "name": "ipython",
        "version": 3
      },
      "file_extension": ".py",
      "mimetype": "text/x-python",
      "name": "python",
      "nbconvert_exporter": "python",
      "pygments_lexer": "ipython3",
      "version": "3.9.5"
    }
  },
  "nbformat": 4,
  "nbformat_minor": 0
}